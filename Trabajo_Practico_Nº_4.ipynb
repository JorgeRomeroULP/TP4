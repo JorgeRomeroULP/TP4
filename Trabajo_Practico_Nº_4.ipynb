{
  "nbformat": 4,
  "nbformat_minor": 0,
  "metadata": {
    "colab": {
      "provenance": []
    },
    "kernelspec": {
      "name": "python3",
      "display_name": "Python 3"
    },
    "language_info": {
      "name": "python"
    }
  },
  "cells": [
    {
      "cell_type": "markdown",
      "source": [
        "**Trabajo Practico Nº 4**\n",
        "Analisis sobre data set\n",
        "\n",
        "1= Buscar los siguiente data set en la web\n",
        "* Titanic\n",
        "* Iris\n",
        "* Wine\n",
        "* Indian Diabetes\n",
        "\n",
        "2- Explicar de cada data set , sus diferente Variables\\\n",
        "3- Deside justificando tu respuesta que tipo de categoria de variable son\\\n",
        "4- Detectar y arreglar los siguientes coceptos\n",
        "* Valores Ausente\n",
        "* Valores Atipicos\n",
        "5- De los difentes data set , se puede eliminar alguna columna\\\n",
        "6- Realizar analisis univariados\n",
        "* Grafico de frecuencia\n",
        "* Grafico de torta\n",
        "* Histograma\n",
        "* etc\n",
        "\n",
        "7- En base a los graficos del punto 6 realizar distintas concluciones\\\n",
        "8- Realizar analisis de corelacion y explicar que variable estan correlacionadas\\\n",
        "9-Realizar un analisis de grafico de cherrnoff y detectar outlires\\\n",
        "\n",
        "PD Pueden Buscar data set de kaggle"
      ],
      "metadata": {
        "id": "N9HdP-duquwy"
      }
    },
    {
      "cell_type": "code",
      "source": [
        "import pandas as pd\n",
        "import numpy as np\n",
        "import matplotlib.pyplot as plt\n",
        "import seaborn as sns"
      ],
      "metadata": {
        "id": "bf0VSaZyuLFT"
      },
      "execution_count": 1,
      "outputs": []
    },
    {
      "cell_type": "code",
      "source": [
        "# Importamos datos desde un archivo CSV\n",
        "url_titanic = 'https://raw.githubusercontent.com/JorgeRomeroULP/TP4/main/titanic.csv'\n",
        "url_iris = 'https://raw.githubusercontent.com/JorgeRomeroULP/TP4/main/Iris.csv'\n",
        "url_wine = 'https://raw.githubusercontent.com/JorgeRomeroULP/TP4/main/wine.csv'\n",
        "url_diabetes = 'https://raw.githubusercontent.com/JorgeRomeroULP/TP4/main/diabetes.csv'\n",
        "\n",
        "titanic = pd.read_csv(url_titanic)\n",
        "iris = pd.read_csv(url_iris)\n",
        "wine = pd.read_csv(url_wine)\n",
        "diabetes = pd.read_csv(url_diabetes)\n"
      ],
      "metadata": {
        "id": "IGWhwMjYW5x3"
      },
      "execution_count": 3,
      "outputs": []
    }
  ]
}